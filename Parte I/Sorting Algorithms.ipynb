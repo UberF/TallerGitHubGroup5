{
 "cells": [
  {
   "cell_type": "code",
   "execution_count": null,
   "id": "cc2aba83",
   "metadata": {},
   "outputs": [],
   "source": [
    "#cambiuos de la versión 1.0 a la 2.0\n",
    "\n",
    "import math\n",
    "import random"
   ]
  }
 ],
 "metadata": {
  "language_info": {
   "name": "python"
  }
 },
 "nbformat": 4,
 "nbformat_minor": 5
}

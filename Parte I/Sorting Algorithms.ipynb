{
 "cells": [
  {
   "cell_type": "code",
   "execution_count": null,
   "id": "e26a9dd8",
   "metadata": {},
   "outputs": [],
   "source": [
    "# esta es la Segunda versión\n",
    "import math\n",
    "import random\n",
    "# Tercera versión\n",
    "import pandas as pd\n",
    "# 4ta versión\n",
    "\n",
    "# Quinta versión\n",
    "import numpy as np\n",
    "a = 5\n",
    "b = 10\n",
    "c = a + b\n",
    "d = math.sqrt(c)\n",
    "e = random.randint(1, 100)\n",
    "\n"
    "# Sexta versión\n",
    "x=5\n",
    "y=6\n",
    "print("suma: "5+6)"
   ]
  },
  {
   "cell_type": "code",
   "execution_count": null,
   "id": "c14cb33a",
   "metadata": {},
   "outputs": [],
   "source": []
  }
 ],
 "metadata": {
  "language_info": {
   "name": "python"
  }
 },
 "nbformat": 4,
 "nbformat_minor": 5
}
